{
 "cells": [
  {
   "cell_type": "code",
   "execution_count": 39,
   "id": "a2d42980",
   "metadata": {},
   "outputs": [
    {
     "name": "stdout",
     "output_type": "stream",
     "text": [
      "Alex\n",
      "name : Alex\n",
      "age : 20\n",
      "grade : A\n",
      "major : Computer Engineering\n"
     ]
    }
   ],
   "source": [
    "# 1.1 Create a dictionary named student with the keys and values:\n",
    "student = {\"name\": \"Alex\", \"age\": 20, \"grade\": \"B\"}\n",
    "\n",
    "# 1.2 Display the value of the \"name\" key\n",
    "print(student[\"name\"])\n",
    "\n",
    "# 1.3 Change the \"grade\" value to \"A\"\n",
    "student[\"grade\"] = \"A\"\n",
    "\n",
    "# 1.4 Add a new key \"major\" with the value \"Computer Engineering\" to the dictionary\n",
    "student[\"major\"] = \"Computer Engineering\"\n",
    "\n",
    "# 1.5 Print all key-value pairs using a for loop\n",
    "for key, value in student.items():\n",
    "    print(key, \":\", value)"
   ]
  },
  {
   "cell_type": "code",
   "execution_count": 40,
   "id": "0d3a1a54",
   "metadata": {},
   "outputs": [
    {
     "name": "stdout",
     "output_type": "stream",
     "text": [
      "You borrowed the book\n"
     ]
    }
   ],
   "source": [
    "# 2.1 Create the dictionary with book titles and available copies\n",
    "books = {\"Math\": 3,\"Science\": 5,\"History\": 2}\n",
    "\n",
    "# 2.2 Ask the user to enter the book title they want to borrow\n",
    "book_title = input(\"Enter the title of the book you want to borrow: \")\n",
    "\n",
    "# 2.3, 2.4, 2.5 Check the availability and respond accordingly\n",
    "if book_title in books:\n",
    "    if books[book_title] > 0:\n",
    "        books[book_title] -= 1\n",
    "        print(\"You borrowed the book\")\n",
    "    else:\n",
    "        print(\"Book out of stock\")\n",
    "else:\n",
    "    print(\"Book not found\")"
   ]
  },
  {
   "cell_type": "code",
   "execution_count": null,
   "id": "c9b36153",
   "metadata": {},
   "outputs": [
    {
     "name": "stdout",
     "output_type": "stream",
     "text": [
      "You borrowed the book.\n",
      "You borrowed the book.\n",
      "You borrowed the book.\n",
      "Book out of stock.\n",
      "Book not found.\n",
      "Thank you for using the library system.\n"
     ]
    }
   ],
   "source": [
    "# 2.1 Create the dictionary with book titles and available copies\n",
    "books = {\"Math\": 3,\"Science\": 5,\"History\": 2}\n",
    "\n",
    "while True:\n",
    "    # 2.2 Ask the user to enter the book title they want to borrow\n",
    "    book_title = input(\"Enter the title of the book you want to borrow (or type 'exit' to quit): \")\n",
    "\n",
    "    # Allow the user to exit the loop\n",
    "    if book_title.lower() == \"exit\":\n",
    "        print(\"Thank you for using the library system.\")\n",
    "        break\n",
    "\n",
    "    # 2.3, 2.4, 2.5 Check the availability and respond accordingly\n",
    "    if book_title in books:\n",
    "        if books[book_title] > 0:\n",
    "            books[book_title] -= 1\n",
    "            print(\"You borrowed the book.\")\n",
    "        else:\n",
    "            print(\"Book out of stock.\")\n",
    "    else:\n",
    "        print(\"Book not found.\")"
   ]
  },
  {
   "cell_type": "code",
   "execution_count": 47,
   "id": "fa55f3e1",
   "metadata": {},
   "outputs": [
    {
     "name": "stdout",
     "output_type": "stream",
     "text": [
      "Tax = 60000.0\n"
     ]
    }
   ],
   "source": [
    "# 3.1 Define the function\n",
    "def income_tax(income):\n",
    "    # 3.2 If income ≤ 100000 → no tax\n",
    "    if income <= 100000:\n",
    "        tax = 0\n",
    "    # 3.3 If 100000 < income ≤ 300000 → 10% on amount above 100000\n",
    "    elif income <= 300000:\n",
    "        tax = (income - 100000) * 0.1\n",
    "    # 3.4 If income > 300000 → 10% on 200000 + 20% on amount above 300000\n",
    "    else:\n",
    "        tax = (200000 * 0.1) + (income - 300000) * 0.2\n",
    "    return tax\n",
    "\n",
    "# 3.5 Ask the user for income and call the function\n",
    "income = float(input(\"Enter your annual income: \"))\n",
    "tax_amount = income_tax(income)\n",
    "print(\"Tax =\", tax_amount)"
   ]
  },
  {
   "cell_type": "code",
   "execution_count": 41,
   "id": "83b908bd",
   "metadata": {},
   "outputs": [
    {
     "name": "stdout",
     "output_type": "stream",
     "text": [
      "Sum of even numbers = 30\n"
     ]
    }
   ],
   "source": [
    "# 4.1 Define the function\n",
    "def sum_even_numbers(n):\n",
    "    # 4.2 Create a variable to store the total sum\n",
    "    total = 0\n",
    "\n",
    "    # 4.3 Loop through numbers from 1 to n\n",
    "    for i in range(1, n + 1):\n",
    "        if i % 2 == 0:  # Check if the number is even\n",
    "            total = total + i  # Add the even number to the total sum\n",
    "\n",
    "    # 4.4 Return the total sum\n",
    "    return total\n",
    "\n",
    "# 4.5 Main program\n",
    "number = int(input(\"Enter a number: \"))\n",
    "result = sum_even_numbers(number)\n",
    "print(\"Sum of even numbers =\", result)\n"
   ]
  },
  {
   "cell_type": "code",
   "execution_count": 45,
   "id": "ced5624b",
   "metadata": {},
   "outputs": [
    {
     "name": "stdout",
     "output_type": "stream",
     "text": [
      "Car rented. Total cost =  25000\n",
      "Model:  Mclaren\n",
      "Rent per day:  5000\n",
      "Available:  False\n",
      "Car returned\n",
      "Model:  Mclaren\n",
      "Rent per day:  5000\n",
      "Available:  True\n"
     ]
    }
   ],
   "source": [
    "# 5.1 Define the Car class\n",
    "class Car:\n",
    "    # 5.2 Initializer method with 3 attributes\n",
    "    def __init__(self, model, rent_per_day, available):\n",
    "        self.model = model\n",
    "        self.rent_per_day = rent_per_day\n",
    "        self.available = True #self.avalable = available is also correct\n",
    "    # 5.3 Method to rent the car\n",
    "    def rent(self, days):\n",
    "        if self.available:\n",
    "            self.available = False\n",
    "            total_cost = self.rent_per_day * days\n",
    "            print(\"Car rented. Total cost = \", total_cost)\n",
    "        else :\n",
    "            print(\"Car not available\")\n",
    "    # 5.4 Method to return the car\n",
    "    def return_car(self):\n",
    "        self.available = True\n",
    "        print(\"Car returned\")\n",
    "    # 5.5 Method to display car details\n",
    "    def display(self):\n",
    "        print(\"Model: \", self.model)\n",
    "        print(\"Rent per day: \", self.rent_per_day)\n",
    "        print(\"Available: \", self.available)\n",
    "# 5.6 Main program        \n",
    "Car1 = Car(\"Mclaren\", 5000, True)\n",
    "Car1.rent(5)\n",
    "Car1.display()\n",
    "Car1.return_car()\n",
    "Car1.display()"
   ]
  }
 ],
 "metadata": {
  "kernelspec": {
   "display_name": "Python 3",
   "language": "python",
   "name": "python3"
  },
  "language_info": {
   "codemirror_mode": {
    "name": "ipython",
    "version": 3
   },
   "file_extension": ".py",
   "mimetype": "text/x-python",
   "name": "python",
   "nbconvert_exporter": "python",
   "pygments_lexer": "ipython3",
   "version": "3.13.5"
  }
 },
 "nbformat": 4,
 "nbformat_minor": 5
}
